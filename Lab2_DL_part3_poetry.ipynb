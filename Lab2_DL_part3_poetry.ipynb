{
 "cells": [
  {
   "cell_type": "markdown",
   "metadata": {
    "id": "02W-VqZK9B0Y"
   },
   "source": [
    "## Lab 2"
   ]
  },
  {
   "cell_type": "markdown",
   "metadata": {
    "id": "0n3uS3uY9B0d"
   },
   "source": [
    "### Part 3. Poetry generation\n",
    "\n",
    "Let's try to generate some poetry using RNNs. \n",
    "\n",
    "You have several choices here: \n",
    "\n",
    "* The Shakespeare sonnets, file `sonnets.txt` available in the notebook directory.\n",
    "\n",
    "* Роман в стихах \"Евгений Онегин\" Александра Сергеевича Пушкина. В предобработанном виде доступен по [ссылке](https://github.com/attatrol/data_sources/blob/master/onegin.txt).\n",
    "\n",
    "* Some other text source, if it will be approved by the course staff.\n",
    "\n",
    "Text generation can be designed in several steps:\n",
    "    \n",
    "1. Data loading.\n",
    "2. Dictionary generation.\n",
    "3. Data preprocessing.\n",
    "4. Model (neural network) training.\n",
    "5. Text generation (model evaluation).\n"
   ]
  },
  {
   "cell_type": "code",
   "execution_count": 1,
   "metadata": {
    "id": "GCXZa_gl9B0d"
   },
   "outputs": [],
   "source": [
    "import string\n",
    "import numpy as np\n",
    "import matplotlib.pyplot as plt\n",
    "%matplotlib inline\n",
    "import os\n",
    "plt.style.use('dark_background')"
   ]
  },
  {
   "cell_type": "markdown",
   "metadata": {
    "id": "MUpnf4IR9B0e"
   },
   "source": [
    "### Data loading: Shakespeare"
   ]
  },
  {
   "cell_type": "markdown",
   "metadata": {
    "id": "DRhsRyBK9B0e"
   },
   "source": [
    "Shakespeare sonnets are awailable at this [link](http://www.gutenberg.org/ebooks/1041?msg=welcome_stranger). In addition, they are stored in the same directory as this notebook (`sonnetes.txt`). Simple preprocessing is already done for you in the next cell: all technical info is dropped."
   ]
  },
  {
   "cell_type": "markdown",
   "metadata": {
    "id": "8rCvfibqCuom"
   },
   "source": [
    "Для обучения модели будем использовать сборник сонет Шекспира."
   ]
  },
  {
   "cell_type": "code",
   "execution_count": 2,
   "metadata": {
    "id": "QLut2rmZ9B0e"
   },
   "outputs": [],
   "source": [
    "if not os.path.exists('sonnets.txt'):\n",
    "    !wget https://raw.githubusercontent.com/girafe-ai/ml-mipt/master/homeworks_basic/Lab2_DL/sonnets.txt\n",
    "\n",
    "with open('sonnets.txt', 'r') as iofile:\n",
    "    text = iofile.readlines()\n",
    "    \n",
    "TEXT_START = 45\n",
    "TEXT_END = -368\n",
    "text = text[TEXT_START : TEXT_END]\n",
    "assert len(text) == 2616"
   ]
  },
  {
   "cell_type": "markdown",
   "metadata": {
    "id": "AJsTl1-W9B0e"
   },
   "source": [
    "In opposite to the in-class practice, this time we want to predict complex text. Let's reduce the complexity of the task and lowercase all the symbols.\n",
    "\n",
    "Now variable `text` is a list of strings. Join all the strings into one and lowercase it."
   ]
  },
  {
   "cell_type": "code",
   "execution_count": 3,
   "metadata": {
    "colab": {
     "base_uri": "https://localhost:8080/",
     "height": 298
    },
    "id": "Dzo-7CyX-_HO",
    "outputId": "41555c89-131b-4db0-e3ec-60043ab3be2a"
   },
   "outputs": [
    {
     "name": "stdout",
     "output_type": "stream",
     "text": [
      "max length = 63\n"
     ]
    },
    {
     "data": {
      "image/png": "[encoded data removed]",
      "text/plain": [
       "<Figure size 432x288 with 1 Axes>"
      ]
     },
     "metadata": {
      "needs_background": "dark"
     },
     "output_type": "display_data"
    }
   ],
   "source": [
    "MAX_LENGTH = max(map(len, text))\n",
    "print(\"max length =\", MAX_LENGTH)\n",
    "\n",
    "plt.title('Sequence length distribution')\n",
    "plt.hist(list(map(len, text)),bins=25);"
   ]
  },
  {
   "cell_type": "code",
   "execution_count": 4,
   "metadata": {
    "colab": {
     "base_uri": "https://localhost:8080/"
    },
    "id": "6lMP-EsG9B0f",
    "outputId": "33087c7a-d810-462f-f6f9-c127b2902726"
   },
   "outputs": [
    {
     "name": "stdout",
     "output_type": "stream",
     "text": [
      "OK!\n"
     ]
    }
   ],
   "source": [
    "# Join all the strings into one and lowercase it\n",
    "# Put result into variable text.\n",
    "\n",
    "# Your great code here\n",
    "new_text = []\n",
    "for i in range(len(text)):\n",
    "  new_text += text[i]\n",
    "\n",
    "text = new_text\n",
    "for i in range(len(text)):\n",
    "  if text[i] in string.ascii_uppercase:\n",
    "    text[i] = text[i].lower()\n",
    "\n",
    "# print(len(text))\n",
    "# print(text[890])\n",
    "assert len(text) == 100225, 'Are you sure you have concatenated all the strings?'\n",
    "assert not any([x in set(text) for x in string.ascii_uppercase]), 'Uppercase letters are present'\n",
    "print('OK!')"
   ]
  },
  {
   "cell_type": "markdown",
   "metadata": {
    "id": "G9jKYAmN9B0f"
   },
   "source": [
    "### Data loading: \"Евгений Онегин\"\n"
   ]
  },
  {
   "cell_type": "code",
   "execution_count": 5,
   "metadata": {
    "id": "qBWU43Tm9B0g"
   },
   "outputs": [],
   "source": [
    "# !wget https://raw.githubusercontent.com/attatrol/data_sources/master/onegin.txt\n",
    "    \n",
    "# with open('onegin.txt', 'r') as iofile:\n",
    "#     text = iofile.readlines()\n",
    "    \n",
    "# text = [x.replace('\\t\\t', '') for x in text]"
   ]
  },
  {
   "cell_type": "markdown",
   "metadata": {
    "id": "r7vInRae9B0g"
   },
   "source": [
    "In opposite to the in-class practice, this time we want to predict complex text. Let's reduce the complexity of the task and lowercase all the symbols.\n",
    "\n",
    "Now variable `text` is a list of strings. Join all the strings into one and lowercase it."
   ]
  },
  {
   "cell_type": "code",
   "execution_count": 6,
   "metadata": {
    "id": "lT9uiUb19B0g"
   },
   "outputs": [],
   "source": [
    "# Join all the strings into one and lowercase it\n",
    "# Put result into variable text.\n",
    "\n",
    "# Your great code here\n"
   ]
  },
  {
   "cell_type": "markdown",
   "metadata": {
    "id": "RhfYUh119B0g"
   },
   "source": [
    "Put all the characters, that you've seen in the text, into variable `tokens`."
   ]
  },
  {
   "cell_type": "code",
   "execution_count": 7,
   "metadata": {
    "colab": {
     "base_uri": "https://localhost:8080/"
    },
    "id": "GhCYUHe-9B0g",
    "outputId": "3f23fb63-998b-41d9-a131-89f58914aba8"
   },
   "outputs": [
    {
     "name": "stdout",
     "output_type": "stream",
     "text": [
      "38\n"
     ]
    }
   ],
   "source": [
    "tokens = sorted(set(text))\n",
    "num_tokens = len(tokens)\n",
    "print(num_tokens)"
   ]
  },
  {
   "cell_type": "markdown",
   "metadata": {
    "id": "wJ02FpTq9B0h"
   },
   "source": [
    "Create dictionary `token_to_idx = {<char>: <index>}` and dictionary `idx_to_token = {<index>: <char>}`"
   ]
  },
  {
   "cell_type": "code",
   "execution_count": 8,
   "metadata": {
    "id": "R-aoQKbV9B0h"
   },
   "outputs": [],
   "source": [
    "# dict <index>:<char>\n",
    "# Your great code here\n",
    "token_to_idx = {token: idx for idx, token in enumerate(tokens)}\n",
    "# dict <char>:<index>\n",
    "# Your great code here\n",
    "idx_to_token = {idx: token for idx, token in enumerate(tokens)}"
   ]
  },
  {
   "cell_type": "markdown",
   "metadata": {
    "id": "vWpuYLAk9B0h"
   },
   "source": [
    "*Comment: in this task we have only 38 different tokens, so let's use one-hot encoding.*"
   ]
  },
  {
   "cell_type": "markdown",
   "metadata": {
    "id": "xJj8Uiar9B0h"
   },
   "source": [
    "### Building the model"
   ]
  },
  {
   "cell_type": "markdown",
   "metadata": {
    "id": "m5H6VQDC9B0h"
   },
   "source": [
    "Now we want to build and train recurrent neural net which would be able to something similar to Shakespeare's poetry.\n",
    "\n",
    "Let's use vanilla RNN, similar to the one created during the lesson."
   ]
  },
  {
   "cell_type": "markdown",
   "metadata": {
    "id": "jeVYhzX9Cuoq"
   },
   "source": [
    "Сначала воспользуемся моделью, построенной на семинаре."
   ]
  },
  {
   "cell_type": "code",
   "execution_count": 9,
   "metadata": {
    "id": "3hGl2LJLY_YN"
   },
   "outputs": [],
   "source": [
    "import torch, torch.nn as nn\n",
    "import torch.nn.functional as F\n",
    "import numpy as np"
   ]
  },
  {
   "cell_type": "code",
   "execution_count": 10,
   "metadata": {
    "id": "vFFACCMDUkWH"
   },
   "outputs": [],
   "source": [
    "def to_matrix(text, max_len=None, pad=token_to_idx[' '], dtype='int32', batch_first=True):\n",
    "    \"\"\"Casts a list of names into rnn-digestable matrix\"\"\"\n",
    "    \n",
    "    max_len = max_len or max(map(len, text))\n",
    "    text_ix = np.zeros([len(text), max_len], dtype) + pad\n",
    "\n",
    "    for i in range(len(text)):\n",
    "        line_ix = [token_to_idx[c] for c in text[i]]\n",
    "        text_ix[i, :len(line_ix)] = line_ix\n",
    "        \n",
    "    if not batch_first: # convert [batch, time] into [time, batch]\n",
    "        text_ix = np.transpose(text_ix)\n",
    "\n",
    "    return text_ix"
   ]
  },
  {
   "cell_type": "code",
   "execution_count": 11,
   "metadata": {
    "id": "jbsBaeFyZmqT"
   },
   "outputs": [],
   "source": [
    "batches = np.split(np.array(text).T, np.linspace(0, len(text), 260, dtype = int))"
   ]
  },
  {
   "cell_type": "code",
   "execution_count": null,
   "metadata": {
    "id": "iBCEyvRP9B0h"
   },
   "outputs": [],
   "source": [
    "# Your code here\n",
    "class CharRNNCell(nn.Module):\n",
    "    \"\"\"\n",
    "    Implement the scheme above as torch module\n",
    "    \"\"\"\n",
    "    def __init__(self, num_tokens=len(tokens), embedding_size=38, rnn_num_units=256):\n",
    "        super(self.__class__,self).__init__()\n",
    "        self.num_units = rnn_num_units\n",
    "        \n",
    "        self.embedding = nn.Embedding(num_tokens, embedding_size)\n",
    "        self.rnn_update = nn.Linear(embedding_size + rnn_num_units, rnn_num_units)\n",
    "        self.rnn_to_logits = nn.Linear(rnn_num_units, num_tokens)\n",
    "        \n",
    "    def forward(self, x, h_prev):\n",
    "        \"\"\"\n",
    "        This method computes h_next(x, h_prev) and log P(x_next | h_next)\n",
    "        We'll call it repeatedly to produce the whole sequence.\n",
    "        \n",
    "        :param x: batch of character ids, containing vector of int64\n",
    "        :param h_prev: previous rnn hidden states, containing matrix [batch, rnn_num_units] of float32\n",
    "        \"\"\"\n",
    "\n",
    "        x_emb = self.embedding(x)\n",
    "\n",
    "        x_and_h = torch.cat([x_emb, h_prev], dim=-1) \n",
    "        h_next = self.rnn_update(x_and_h)\n",
    "        \n",
    "        h_next = torch.tanh(h_next) \n",
    "        \n",
    "        assert h_next.size() == h_prev.size()\n",
    "        \n",
    "        #compute logits for next character probs\n",
    "        logits = self.rnn_to_logits(h_next) \n",
    "        \n",
    "        return h_next, logits\n",
    "    \n",
    "    def initial_state(self, batch_size):\n",
    "        \"\"\" return rnn state before it processes first input (aka h0) \"\"\"\n",
    "        return torch.zeros(batch_size, self.num_units, requires_grad=True)"
   ]
  },
  {
   "cell_type": "code",
   "execution_count": null,
   "metadata": {
    "id": "QCTOCgaXaz5d"
   },
   "outputs": [],
   "source": [
    "char_rnn = CharRNNCell()\n",
    "criterion = nn.NLLLoss()\n",
    "num_tokens = len(tokens)"
   ]
  },
  {
   "cell_type": "code",
   "execution_count": null,
   "metadata": {
    "id": "So8P2YJ1Z_kt"
   },
   "outputs": [],
   "source": [
    "def rnn_loop(char_rnn, batch_ix):\n",
    "    \"\"\"\n",
    "    Computes log P(next_character) for all time-steps in names_ix\n",
    "    :param names_ix: an int32 matrix of shape [batch, time], output of to_matrix(names)\n",
    "    \"\"\"\n",
    "    batch_size, max_length = batch_ix.size()\n",
    "    hid_state = char_rnn.initial_state(batch_size)\n",
    "    logprobs = []\n",
    "\n",
    "    for x_t in batch_ix.transpose(0,1):\n",
    "        hid_state, logits = char_rnn(x_t, hid_state)  # <-- here we call your one-step code\n",
    "        logprobs.append(F.log_softmax(logits, -1))\n",
    "        \n",
    "    return torch.stack(logprobs, dim=1)"
   ]
  },
  {
   "cell_type": "code",
   "execution_count": null,
   "metadata": {
    "id": "luvwUYMQaBuE"
   },
   "outputs": [],
   "source": [
    "batch_size = 50\n",
    "batch_ix = to_matrix(batches[0:batch_size + 1])\n",
    "batch_ix = torch.tensor(batch_ix, dtype=torch.int64)\n",
    "\n",
    "logp_seq = rnn_loop(char_rnn, batch_ix)\n",
    "\n",
    "assert torch.max(logp_seq).data.numpy() <= 0\n",
    "assert tuple(logp_seq.size()) ==  batch_ix.shape + (num_tokens,)\n",
    "\n",
    "predictions_logp = logp_seq[:, :-1]\n",
    "actual_next_tokens = batch_ix[:, 1:]\n",
    "\n",
    "\n",
    "loss = criterion(predictions_logp.contiguous().view(-1, num_tokens), \n",
    "                  actual_next_tokens.contiguous().view(-1))\n",
    "loss.backward()\n",
    "for w in char_rnn.parameters():\n",
    "    assert w.grad is not None and torch.max(torch.abs(w.grad)).data.numpy() != 0, \\\n",
    "        \"Loss is not differentiable w.r.t. a weight with shape %s. Check forward method.\" % (w.size(),)"
   ]
  },
  {
   "cell_type": "markdown",
   "metadata": {
    "id": "DvqrQ-_49B0h"
   },
   "source": [
    "Plot the loss function (axis X: number of epochs, axis Y: loss function)."
   ]
  },
  {
   "cell_type": "code",
   "execution_count": null,
   "metadata": {
    "id": "1UT_IBAR9B0i"
   },
   "outputs": [],
   "source": [
    "from IPython.display import clear_output\n",
    "from random import sample\n",
    "\n",
    "char_rnn = CharRNNCell()\n",
    "criterion = nn.NLLLoss()\n",
    "opt = torch.optim.Adam(char_rnn.parameters())\n",
    "history = []"
   ]
  },
  {
   "cell_type": "markdown",
   "metadata": {
    "id": "YcPeqNI3Cuos"
   },
   "source": [
    "Обучим модель на данных, разбитых на строки длиной 385 символов (то есть всего 260 таких строк). На каждой эпохе обучения используем батч, который составлен из 50 из возможных 260 таких строк. Это сделано для ускорения процесса обучения. Теоретически, можно было обучаться и на всём text, но это намного дольше. На каждой эпохе строки выбираются рандомно, то есть батчи на каждой эпохе разные.\n",
    "\n",
    "Кроме того, можно было создавать строки из равного количества четверостиший, например 3 (12 строк исходого истихотворения), а оставшееся место заполнить пробелами для выравнивания всех частей разбиения по длине (выравнивание по длине в функции to_matrix). Но как показала практика, это не имеет особого смысла и можно разбить текст на одинаковые части. "
   ]
  },
  {
   "cell_type": "code",
   "execution_count": null,
   "metadata": {
    "colab": {
     "base_uri": "https://localhost:8080/",
     "height": 265
    },
    "id": "VIXJ7mqtbx7G",
    "outputId": "71908ffa-6eee-46b0-82f3-e6661becfbbc"
   },
   "outputs": [
    {
     "data": {
      "image/png": "[encoded data removed]",
      "text/plain": [
       "<Figure size 432x288 with 1 Axes>"
      ]
     },
     "metadata": {
      "tags": []
     },
     "output_type": "display_data"
    }
   ],
   "source": [
    "batch_size = 50\n",
    "for i in range(2000):\n",
    "    opt.zero_grad()\n",
    "    \n",
    "    batch_ix = to_matrix(sample(batches, batch_size))\n",
    "    batch_ix = torch.tensor(batch_ix, dtype=torch.int64)\n",
    "    \n",
    "    logp_seq = rnn_loop(char_rnn, batch_ix)\n",
    "    \n",
    "    # compute loss\n",
    "    predictions_logp = logp_seq[:, :-1] \n",
    "    actual_next_tokens = batch_ix[:, 1:] \n",
    "    \n",
    "\n",
    "    loss = criterion(\n",
    "        predictions_logp.contiguous().view(-1, num_tokens),\n",
    "        actual_next_tokens.contiguous().view(-1)\n",
    "    ) \n",
    "   \n",
    "    # train with backprop\n",
    "    loss.backward()\n",
    "    opt.step()\n",
    "    \n",
    "    history.append(loss.data.numpy())\n",
    "    if (i+1)%100==0:\n",
    "        clear_output(True)\n",
    "        plt.plot(history,label='loss')\n",
    "        plt.legend()\n",
    "        plt.show()\n",
    "\n",
    "assert np.mean(history[:10]) > np.mean(history[-10:]), \"RNN didn't converge.\""
   ]
  },
  {
   "cell_type": "markdown",
   "metadata": {
    "id": "d04mwucDCuos"
   },
   "source": [
    "Функция для генерации текста. "
   ]
  },
  {
   "cell_type": "code",
   "execution_count": null,
   "metadata": {
    "id": "ydeImeOwtniC"
   },
   "outputs": [],
   "source": [
    "def generate_sample(char_rnn, seed_phrase='hello', max_length=MAX_LENGTH, temperature=1.0):\n",
    "    \n",
    "    x_sequence = [token_to_idx[token] for token in seed_phrase]\n",
    "    x_sequence = torch.tensor([x_sequence], dtype=torch.int64)\n",
    "    hid_state = char_rnn.initial_state(batch_size=1)\n",
    "    \n",
    "    for i in range(len(seed_phrase) - 1):\n",
    "        hid_state, _ = char_rnn(x_sequence[:, i], hid_state)\n",
    "    \n",
    "    #start generating\n",
    "    for _ in range(max_length - len(seed_phrase)):\n",
    "        hid_state, logits = char_rnn(x_sequence[:, -1], hid_state)\n",
    "        p_next = F.softmax(logits / temperature, dim=-1).data.numpy()[0]\n",
    "        \n",
    "        # sample next token and push it back into x_sequence\n",
    "        next_ix = np.random.choice(num_tokens,p=p_next)\n",
    "        next_ix = torch.tensor([[next_ix]], dtype=torch.int64)\n",
    "        x_sequence = torch.cat([x_sequence, next_ix], dim=1)\n",
    "        \n",
    "    return ''.join([tokens[ix] for ix in x_sequence.data.numpy()[0]])"
   ]
  },
  {
   "cell_type": "markdown",
   "metadata": {
    "id": "YjdREwnbCuot"
   },
   "source": [
    "Сгенерируем текст при разных значениях параметра temperature, а именно при temperature = [0.1, 0.2, 0.5, 1.0, 2.0]"
   ]
  },
  {
   "cell_type": "code",
   "execution_count": null,
   "metadata": {
    "colab": {
     "base_uri": "https://localhost:8080/"
    },
    "id": "ZYHZAfv99B0i",
    "outputId": "aac11a3d-3ca5-49f3-e17a-b44ee965723d"
   },
   "outputs": [
    {
     "name": "stdout",
     "output_type": "stream",
     "text": [
      "hello know\n",
      "  which i canks thee to the gain, oresse hath thy heart\n",
      "  that thou proud least to the heart\n",
      "  of meenst the wear;\n",
      "  and beauty should that i will in your complexion day\n",
      "  to thine of thy love she were\n",
      "  against the winter's face,\n",
      "  for that were bonnous to bree,--\n",
      "  the presen canst thou gell.\n",
      "\n",
      "  xvi\n",
      "\n",
      "  love is thy perfect to eyes,\n",
      "  and that from heart's it the stay\n",
      "  which is this some in their hadds or anderies that the strangely;\n",
      "  but then that manner better thee,\n",
      "    beauty of thought in our line,\n",
      "    beauty of thy self dost grow.\n",
      "\n",
      "  xciii\n",
      "\n",
      "  when i have some worth that the world's fair aming;\n",
      "    for i have sweet add thee,\n",
      "    and thou wilt thou dost duil;\n",
      "    that i am new-formen doth comment\n",
      "  if their sway my mad.\n",
      "  to this thing them a thouse,\n",
      "  but thou gained sothen sight,\n",
      "  that the truth doth gree my mind,\n",
      "    but do not so much more doth grow'st thou dost duty make the state hour fair;\n",
      "  and blund the world as a feast,\n",
      "  steal from thee i sen the expire,\n",
      "  when thou art as their power to make the world's eye love.\n",
      "\n",
      "  cxxxi\n",
      "\n",
      "  then world could seting,\n",
      "  and me thou the thought can see i be of thy mind,\n",
      "  and making thy self thy show,\n",
      "  so thou will be with me all the sweetest of a look,\n",
      "  and beauty should the ruse summer's are posterity?\n",
      "    but do i will be the world and fearth end thee,\n",
      "    so true not so strength of me,\n",
      "    be should thou past to thee:\n",
      "    then that many a vaudes forth, with all of the repast in thee,\n",
      "  the ills to seem where of the self--myse\n",
      "  as the world as arten.\n",
      "  let there is make men with his solf doth live,\n",
      "  and they\n"
     ]
    }
   ],
   "source": [
    "sample = generate_sample(char_rnn, max_length=1600, temperature=0.1)\n",
    "print(sample)"
   ]
  },
  {
   "cell_type": "code",
   "execution_count": null,
   "metadata": {
    "id": "mcG7EJgBCuot",
    "outputId": "1d40f9fb-61cd-45ea-cd8a-4553899dd05b"
   },
   "outputs": [
    {
     "name": "stdout",
     "output_type": "stream",
     "text": [
      "hello expieted\n",
      "  the summer of a grown days,\n",
      "    to make me thou seest the charge of thy mind,\n",
      "  and making thy self thy show,\n",
      "  so thou wilt leave her saken\n",
      "  that thou art thy beauty's words to see:\n",
      "  sing, shoul summer on the fiew,\n",
      "  whilst i with a manter growned still he that grow.\n",
      "  so then tears there is my shame will namen of have sweet seem straight of youth so of thee:\n",
      "  the parth thee thy sweet beauty can brow,\n",
      "  if thou shouldst thou stealth interant, save thee thy breast, store,\n",
      "  then my see thee vortune ander you remembered mine eye shall i day the stars in thee thy pare,\n",
      "  which is this soll in thee, wherein an out as deep\n",
      "  that thou art all my poor bear their rainting his grow.\n",
      "\n",
      "  lxxiv\n",
      "\n",
      "  whose blesses of the summer's shadow to me:\n",
      "    but when i have some for love shall have some in thee, and precious time,\n",
      "  as thou past that which his sport,\n",
      "  that she with finder to thee,\n",
      "    the sad that should the ruse, but the stare the world and such tend\n",
      "  that seenot time do i am and wallows lie could be thee:\n",
      "  the reasons on might think forse,\n",
      "  to what you with me in thee the faults nor eye when thou art more than the womber hath re the sun,\n",
      "  and in my mind,\n",
      "    this tongue--in thence did i crudy sacc\n",
      "  without there is my sake thee stands doubted fill\n",
      "  the worst thou wert but the time, blood want new live:\n",
      "    and yet this abundand thing me all,\n",
      "  when my love that their sways their sweet self despised manix\n",
      "  and surving thy single and oud.\n",
      "\n",
      "  cxlviii\n",
      "\n",
      "  when i have some worth that the summer sak'd,\n",
      "  and therefore have i not the dubber thee, my desire to\n"
     ]
    }
   ],
   "source": [
    "sample = generate_sample(char_rnn, max_length=1600, temperature=0.2)\n",
    "print(sample)"
   ]
  },
  {
   "cell_type": "code",
   "execution_count": null,
   "metadata": {
    "id": "JViiZzWNCuou",
    "outputId": "0588d44e-b07c-4bbe-a40e-c9800104208f"
   },
   "outputs": [
    {
     "name": "stdout",
     "output_type": "stream",
     "text": [
      "hello call,\n",
      "  for that rear thy self art what well to my grost;\n",
      "  for that when i have sweet beauty remov'd to be.\n",
      "  but when i see dear thee shemes right of all too short;\n",
      "  and therefore have some world drave,\n",
      "  that with false haply be now that verat.\n",
      "\n",
      "  xxxiv\n",
      "\n",
      "  before the world action will dear should be then.\n",
      "  by time deservined enewest;\n",
      "  for where as eyes of my heart,\n",
      "  and think thou thy foil shall confore,\n",
      "  that do not sweet love worts more rare,\n",
      "  whose prove,\n",
      "  which by asteement buthers and rook showers, for the serfan to me state,\n",
      "  and therefore have some worth thine eye, my love shall be thy his,\n",
      "  and thought of love, and death'd untoncests words and beauty not lift,\n",
      "  and the dull be thee fals doth youth the slander, of their grace,\n",
      "  and grave an other in the breathe,\n",
      "  and i with my love to thee,\n",
      "    lose as a thing,\n",
      "    should love of socred,\n",
      "  and given the love that thou all forgries,\n",
      "    where thou art as hath my days;\n",
      "    this that should exturn'd from the worst of your comment;\n",
      "  and from the forlown life\n",
      "  thank with that much morethere shame\n",
      "  when those of their swairen growing,\n",
      "  so worthy in thee thy presence grow.\n",
      "\n",
      "  cxxiv\n",
      "\n",
      "  so, for my love alone,\n",
      "  the most breath engument,\n",
      "  looks, and making state,\n",
      "  and in my love that true pen;\n",
      "  remore, i be say,\n",
      "  whom thy proud to me, then you have being age,\n",
      "  self-il thou ground;\n",
      "    for canks sweet beauty hath still so rurlies,\n",
      "    that tonteress'd a foul stol'd in his spirit hath most flesh, hences thank his book,\n",
      "    and their stail thee that mend'd have doth all the world's king,\n",
      "  and so the\n"
     ]
    }
   ],
   "source": [
    "sample = generate_sample(char_rnn, max_length=1600, temperature=0.5)\n",
    "print(sample)"
   ]
  },
  {
   "cell_type": "code",
   "execution_count": null,
   "metadata": {
    "id": "GQl6Z_RsCuou",
    "outputId": "112d287e-f94e-4553-f66b-6167e19eba61"
   },
   "outputs": [
    {
     "name": "stdout",
     "output_type": "stream",
     "text": [
      "hello 'ghided bedeful calleres,\n",
      "  and beautions most to the worlds of you heat,\n",
      "  with giving frass, if ever weed.\n",
      "\n",
      "  cxlvi\n",
      "\n",
      "  sweet laides loft doth time\n",
      "  to me worth in our still old large agains affarst;\n",
      "  in thyself inngrost shapet one,\n",
      "    the breait ingrountrin digness'\n",
      "  a by parn thy show thee, me woil.\n",
      "  which he past removed behold,\n",
      "  and you might thou dost hute; from thy perfect med on thee;\n",
      "    if some say which in me, none out day, though roses we domb gemal's on the time?\n",
      "  even that throued beist-lief to me.\n",
      "\n",
      "  xl\n",
      "\n",
      "  the will's leng when mine eye my honeed infust i taugh\n",
      "  that kind, and eyes in men,\n",
      "  thy munger thee id linescilth, by chilm and,\n",
      "  have afternal sami\n",
      "  to thee one, whomabled set,\n",
      "  in brieft memortal spbite be thee;\n",
      "  whates sower would will in youth on flown war a mem by sacceptace, for their face of their rage of thine\n",
      "  thy sprring actenting dispisure, have is hour scarle, and gave,\n",
      "  and for tender bew, terve thou foul which glase, breather anty loveli is day they?\n",
      "  with every think, alone.\n",
      "    mo excheruli be canstenless youl saget;\n",
      "  i am thinks, and publiches one theed;\n",
      "  my dour limy dear in this, and dies, preames sweer their wrong\n",
      "  tead seem'd,\n",
      "  and by friefuledof ish cheets of my that lava\n",
      "  have a pross away,\n",
      "  and be art, that small glory;\n",
      "  but here'it have moke world cherken got thou bedi'd in suill.\n",
      "  the faithers bodge use your sweet self welluckoornes of his graces me, that with goodless, but my name;\n",
      "  betirn where thou hast too enpert, thou soully arting coothould me will brouty,\n",
      "  like my life thy sours havise\n",
      "  as i\n"
     ]
    }
   ],
   "source": [
    "sample = generate_sample(char_rnn, max_length=1600, temperature=1.0)\n",
    "print(sample)"
   ]
  },
  {
   "cell_type": "code",
   "execution_count": null,
   "metadata": {
    "id": "Z0u98kaCCuou",
    "outputId": "a0a417ef-cc96-41f8-882b-c281d659854a"
   },
   "outputs": [
    {
     "name": "stdout",
     "output_type": "stream",
     "text": [
      "hellooreg, not pospess of all,\n",
      "  well bloosing uncoldy with fills, and for; you zear awirk,\n",
      "    swannet tonguesunind wis.\n",
      "  that gifts'f-arp ttiuf-vaad,\n",
      "  hy will stifl you lush,\n",
      "    ouch'rcupsw,\n",
      "  sweet hea reedat'\n",
      "  a too whttise, wits nor did quive,\n",
      "  pervimaty chpising, while, richrion graw'l cchacq upat (lo'e,\n",
      "  when racgeets posterane: orave diglo, truth?\n",
      "  p!iz'd ne ulpeapt lors.\n",
      "  hhlahe lognoungied doth, whiqht,\n",
      "  and'rr noth be!ith with;s capee mine i migh goilling shrfevelmbse\n",
      "  sireny te volsersbbe,\n",
      "  in joy! bh am fev,'ar'dlie anquadgat prol'd;\n",
      "  for trup, my besceces, all what is tompurt.\n",
      "  o frutely?s rotumn:\n",
      "  virsune gower everth as fue:\n",
      "  thus saweer bluch themuse thule wurl--pought!\n",
      "    fend ahcail, vaze proffoict-thoundy ppity me leshin bil,',\n",
      "  and ropp'd cefeec;\n",
      "  jobquon'd usies fiquliapon's wous:\n",
      "  to kissing hope's wild yor?\n",
      "  being vain!s upon o thin 'soth.\n",
      "\n",
      "  cxxiv\n",
      "\n",
      "  xxvadget held eypleyer earbhr veibommion welage?\n",
      "  o they shall his werquded firl's k it lembly\n",
      "s in his debors.\n",
      "\n",
      "  xcv\n",
      "\n",
      "  mny leiss hot one gyim?\n",
      "  why so of hea congrewairk'?\n",
      "  i tender guvlt i co'x\n",
      "\n",
      "  those, lvanocklesp'd ophy picuse\n",
      "  at in thee,\n",
      "   for at sin, by the laigunnoturectious, one 'xprysiue,\n",
      "  shoved livids my bldiviou'd was he:.?\n",
      "  thoankneme opy coaved again,f tilet-behoine thus, dis a ctoughg-twogllaplinsw; cy! leavfly hoaje;\n",
      "  by whops mcuity lid minusbj\n",
      "\n",
      "  spre\n",
      "  of reiff i thun, mole, his,---vecvives wegst?mpoilqh doth gitakimuly it als tothis agilean, aguingusp! pivetures)quciousn!\n",
      "  o' nor no propte! 'hbe;\n",
      "  so hipipe! affoe,!? fxirpi if due midwande rw)ence? w\n"
     ]
    }
   ],
   "source": [
    "sample = generate_sample(char_rnn, max_length=1600, temperature=2.0)\n",
    "print(sample)"
   ]
  },
  {
   "cell_type": "markdown",
   "metadata": {
    "id": "H6jooBuNCuou"
   },
   "source": [
    "Вывод по Vanila RNN: Модель генерирует текст, отдалённо напоминающий стихи. При больших значениях параметра температуры модель генерирует более непредсказуемый текст (имеет больше свободы в выборе), но этот текст перестаёт быть похожим на что-то реальное. При малых значениях параметра температуры (<1) текст содержит больше реально существующих слов, чем при больших значениях параметра, и емеет более адекватную структуру (нормальные длины строк, правильно расставленные знаки препинания - они почти не встречаются посреди слов, как при temperature = 2.0)"
   ]
  },
  {
   "cell_type": "markdown",
   "metadata": {
    "id": "pPgL1xSl9B0i"
   },
   "source": [
    "### More poetic model\n",
    "\n",
    "Let's use LSTM instead of vanilla RNN and compare the results."
   ]
  },
  {
   "cell_type": "markdown",
   "metadata": {
    "id": "nGEw69PE9B0i"
   },
   "source": [
    "Plot the loss function of the number of epochs. Does the final loss become better?"
   ]
  },
  {
   "cell_type": "markdown",
   "metadata": {
    "id": "4CJ1um6RCuov"
   },
   "source": [
    "Используем модель LSTM из Pytorch. Число слоёв в LSTM положи равным 2, а rnn_num_units=128."
   ]
  },
  {
   "cell_type": "code",
   "execution_count": null,
   "metadata": {
    "id": "jmrLOvIf9B0j"
   },
   "outputs": [],
   "source": [
    "# Your beautiful code here"
   ]
  },
  {
   "cell_type": "code",
   "execution_count": null,
   "metadata": {
    "id": "9jM5zycACuov"
   },
   "outputs": [],
   "source": [
    "class LSTMLoop(nn.Module):\n",
    "    def __init__(self, num_tokens=num_tokens, emb_size=num_tokens, rnn_num_units=128):\n",
    "        super(self.__class__, self).__init__()\n",
    "        self.num_layers = 2\n",
    "        self.rnn_num_units = rnn_num_units\n",
    "        self.emb = nn.Embedding(num_tokens, emb_size)\n",
    "        self.rnn = nn.LSTM(emb_size, self.rnn_num_units, num_layers=self.num_layers, batch_first=True, dropout=0.2)\n",
    "        self.hid_to_logits = nn.Linear(self.rnn_num_units, num_tokens)\n",
    "        \n",
    "    def forward(self, x, prev_state):\n",
    "        assert isinstance(x.data, torch.LongTensor)\n",
    "        embed = self.emb(x)\n",
    "        output, state = self.rnn(embed, prev_state)\n",
    "        logits = self.hid_to_logits(output)\n",
    "        return logits, state\n",
    "    \n",
    "    def initial_state(self, batch_size):\n",
    "        return (torch.zeros(self.num_layers, batch_size, self.rnn_num_units),\n",
    "                torch.zeros(self.num_layers, batch_size, self.rnn_num_units))\n"
   ]
  },
  {
   "cell_type": "code",
   "execution_count": null,
   "metadata": {
    "id": "3pevcUiHCuov"
   },
   "outputs": [],
   "source": [
    "from IPython.display import clear_output\n",
    "import random \n",
    "\n",
    "model = LSTMLoop()\n",
    "opt = torch.optim.Adam(model.parameters())\n",
    "criterion = nn.NLLLoss()\n",
    "history = []\n",
    "batch_size = 50"
   ]
  },
  {
   "cell_type": "markdown",
   "metadata": {
    "id": "4eNgbQMvCuov"
   },
   "source": [
    "Обучим модель на сонетах Шекспира аналогично предыдущей модели (учитывая, то теперь есть state_h, state_c)."
   ]
  },
  {
   "cell_type": "code",
   "execution_count": null,
   "metadata": {
    "id": "b_U3fdHQCuov",
    "outputId": "c0312de0-6af3-4144-fba8-a13ba0725d58"
   },
   "outputs": [
    {
     "data": {
      "image/png": "[encoded data removed]",
      "text/plain": [
       "<Figure size 432x288 with 1 Axes>"
      ]
     },
     "metadata": {
      "tags": []
     },
     "output_type": "display_data"
    }
   ],
   "source": [
    "for i in range(2700):\n",
    "    batch_ix = to_matrix(random.sample(batches, int(batch_size)))\n",
    "    batch_ix = torch.tensor(batch_ix, dtype=torch.int64)\n",
    "    \n",
    "    state_h, state_c = model.initial_state(batch_size)\n",
    "    \n",
    "    y_pred, (state_h, state_c) = model(batch_ix, (state_h, state_c))\n",
    "    \n",
    "    logp_seq = F.log_softmax(y_pred, dim=-1)\n",
    "    \n",
    "    state_h = state_h.detach()\n",
    "    state_c = state_c.detach()\n",
    "    \n",
    "    predictions_logp = logp_seq[:, :-1] \n",
    "    actual_next_tokens = batch_ix[:, 1:] \n",
    "\n",
    "    loss = criterion(\n",
    "        predictions_logp.contiguous().view(-1, num_tokens),\n",
    "        actual_next_tokens.contiguous().view(-1)\n",
    "    )\n",
    "\n",
    "    loss.backward()\n",
    "    opt.step()\n",
    "    opt.zero_grad()\n",
    "    \n",
    "    history.append(loss.data.numpy())\n",
    "    if (i+1)%100==0:\n",
    "        clear_output(True)\n",
    "        plt.plot(history,label='loss')\n",
    "        plt.legend()\n",
    "        plt.show()\n",
    "\n",
    "assert np.mean(history[:10]) > np.mean(history[-10:]), \"RNN didn't converge.\""
   ]
  },
  {
   "cell_type": "markdown",
   "metadata": {
    "id": "nC60PZeXCuow"
   },
   "source": [
    "Напишем новую функцию для генерации текста."
   ]
  },
  {
   "cell_type": "code",
   "execution_count": null,
   "metadata": {
    "id": "T8Je9sr1Cuow"
   },
   "outputs": [],
   "source": [
    "MAX_LENGTH = 500\n",
    "def generate_sample(model, seed_phrase='hello', max_length=MAX_LENGTH, temperature=1.0):\n",
    "\n",
    "    x_sequence = [token_to_idx[token] for token in seed_phrase]\n",
    "    x_sequence = torch.tensor([[x_sequence]], dtype=torch.int64)\n",
    "    (state_h, state_c) = model.initial_state(batch_size = 1)\n",
    "    \n",
    "    for i in range(len(seed_phrase) - 1):\n",
    "        y_pred, (state_h, state_c) = model(x_sequence[:, :, i], (state_h, state_c))\n",
    "\n",
    "    for _ in range(max_length - len(seed_phrase)):\n",
    "        y_pred, (state_h, state_c) = model(x_sequence[:, :, -1], (state_h, state_c))\n",
    "        last_logit = y_pred[0][-1]\n",
    "        p_next = F.softmax(last_logit / temperature, dim=0).data.numpy()\n",
    "        \n",
    "        next_ix = np.random.choice(len(tokens), p=p_next)\n",
    "           \n",
    "        next_ix = torch.tensor([[[next_ix]]], dtype=torch.int64)\n",
    "        \n",
    "        x_sequence = torch.cat((x_sequence, next_ix), dim=-1)\n",
    " \n",
    "    return ''.join([tokens[ix] for ix in x_sequence.data.numpy()[0][0]])"
   ]
  },
  {
   "cell_type": "markdown",
   "metadata": {
    "id": "vBzzUhf79B0j"
   },
   "source": [
    "Generate text using the trained net with different `temperature` parameter: `[0.1, 0.2, 0.5, 1.0, 2.0]`.\n",
    "\n",
    "Evaluate the results visually, try to interpret them."
   ]
  },
  {
   "cell_type": "code",
   "execution_count": null,
   "metadata": {
    "id": "Am6Ud64l9B0j"
   },
   "outputs": [],
   "source": [
    "# Text generation with different temperature values here"
   ]
  },
  {
   "cell_type": "code",
   "execution_count": null,
   "metadata": {
    "id": "tD6UdzLYCuow",
    "outputId": "646aee6c-ca10-4b9a-b6f4-373d89d2fbf5"
   },
   "outputs": [
    {
     "name": "stdout",
     "output_type": "stream",
     "text": [
      "hello keep summer's ere being summer's friends of true life,\n",
      "  and therefore i am allorigain of the star.\n",
      "                                 i will not still to my stall cannet\n",
      "  that may not be the may detien,\n",
      "  that i not self-som toot is doth near,\n",
      "  and i have some blessed and prove thee prime.\n",
      "  o! how thee, the beauty of thee touch mine,\n",
      "  and therefore to me all the spending sould sweet sight,\n",
      "  i conscorn their badery mines deeps,\n",
      "  let my self thou shourd all the presion grow?\n",
      "  in mender spirit i am most doth decay.\n",
      "\n",
      "  lxxxvi\n",
      "\n",
      "  i am the true a composed fort must still,\n",
      "  and truth and lovely things right to steel\n",
      "  of the breath, or dead and tooks me that thee,\n",
      "  and so thing this sweets bud the selfing me,\n",
      "  but not thence that i will not should bear,\n",
      "  and so the beautes ofter, and thou alter's\n",
      "  that in the beauty's beauty like the tomb.\n",
      "    thence to the beauty beauty should to more tho was,\n",
      "  thou art better disgrace of things right,\n",
      "  and for the beauty should me praise doth stay\n",
      "  the best, and therefore that i not starn.\n",
      "    so love than thy love is my seem doth beauty,\n",
      "  and then thou days thy self alone, and end\n",
      "  to subsent that in thy worth of all thee,\n",
      "  and beauty on the too making thine eye,\n",
      "  the present summer's green a seless friend,\n",
      "  and the self-worth to be all to thee,\n",
      "  when i am the world i day so the eye,\n",
      "  and such a self-love to be all to everig,\n",
      "  of all my love's anding haster'd prove\n",
      "  the brould dot show the world which the stain grow\n",
      "  that shall beauty see as thines the send do not see,\n",
      "    thine eye as for the breath, of thy self d\n"
     ]
    }
   ],
   "source": [
    "sample = generate_sample(model, max_length = 1600, temperature=0.1)\n",
    "print(sample)"
   ]
  },
  {
   "cell_type": "code",
   "execution_count": null,
   "metadata": {
    "id": "m3J7s2mtCuox",
    "outputId": "95b59310-d7ce-4951-9f9a-36de0abf26e3"
   },
   "outputs": [
    {
     "name": "stdout",
     "output_type": "stream",
     "text": [
      "hellonks its it forgom as forther,\n",
      "    and then better of the star a dar presagely,\n",
      "  and my love shall be an allooned argument\n",
      "  is summone's stronggance as the spolit bed,\n",
      "  and thou still shall still thy shame subseckse confound.\n",
      "    but sweet self too much art the despests,\n",
      "  and contenfer in thy wint, and thou showling,\n",
      "    and the sharly must be did breather, and even\n",
      "  and in the self-will, art a mad not,\n",
      "  that they that which i bort a lovely doth stay\n",
      "  the world self-love to the day showning,\n",
      "  when subjects bres though theely say me doth stand,\n",
      "  and to make the shall in the sar all of more\n",
      "  and therefore to be belov'd of thee decellert,\n",
      "  which stranger shall summer's dearhser,\n",
      "  that therefore to the may all the state of me.\n",
      "\n",
      "  xxiii\n",
      "\n",
      "  whathed, and thou art a decaysen are,\n",
      "  and forthy sing, and all these moray not so.\n",
      "\n",
      "  xciv\n",
      "\n",
      "  whatere is the tongee then that thou seel'st trust,\n",
      "  nor all the world thy self a fore dead doth spond,\n",
      "  and in the barrances for thy strongly darth,\n",
      "    and all my lover's rich in time to be so,\n",
      "  of this sount infre me to mender of thee exter;\n",
      "  the san all thined eyes doth thy send,\n",
      "    and sour, by the warth of thy self a self-such strive\n",
      "  and see thee more than thee in the sum,\n",
      "  and though in their pride infrom for thee eye,\n",
      "  and true in thy self a seeming of truth.\n",
      "\n",
      "  cxvii\n",
      "\n",
      "  when thou say thou art forced that my love's grow,\n",
      "    to love in thy fair were in true self a decree,\n",
      "  true sinces stain, and thistance my say,\n",
      "    that thou shouldst tongue that my sightless eye,\n",
      "  and strong against thou mayst creat, let me brien\n"
     ]
    }
   ],
   "source": [
    "sample = generate_sample(model, max_length = 1600, temperature=0.2)\n",
    "print(sample)"
   ]
  },
  {
   "cell_type": "code",
   "execution_count": null,
   "metadata": {
    "id": "jqkkBRdzCuox",
    "outputId": "f131fdf3-9599-421b-ae54-9fa51fdd27d4"
   },
   "outputs": [
    {
     "name": "stdout",
     "output_type": "stream",
     "text": [
      "hello the ourrevion right have deear.\n",
      "  but that is thou thy self a mother's rest,\n",
      "  which though in their be and tomments do not still\n",
      "  the that when i that powarine interit,\n",
      "  when i should fear thy sont in a farerest the with,\n",
      "  and beauty so more that thou mayst to thee,\n",
      "  and i could see strenght, which my love's writes commis.\n",
      "    that i within what i self-such thou dost canspo,\n",
      "  when i better that thou gents cave thee are,\n",
      "  leave fremlen thy self for grace of me wrin,\n",
      "  but with they waring of thy sond is alone excee;\n",
      "  but then it live in thee to me to see,\n",
      "  for when though thy self your grace, and yet still,\n",
      "  and i not to bengum there-wited art,\n",
      "  likeredsess, and therefore that won my heart,\n",
      "  that which thou art but the may detimed shint,\n",
      "    and my fear thee most love thou dost common thee.\n",
      "\n",
      "  cxlii\n",
      "\n",
      "  o! that my love make thee moure make muse.\n",
      "  then thought i may not made ascrest of see!\n",
      "    sometim love to show not the world strong to me.\n",
      "\n",
      "  xxxii\n",
      "\n",
      "  whose shall will fair a charder, and trive,\n",
      "    and ther mad all them another stars\n",
      "  as far there all thes as the days\n",
      "    thee is should pay in the breaks to growning\n",
      "  and me thou art, and music days my love,\n",
      "  and los poor loss sing in my wails harvess,\n",
      "  and that she alter-th thou art more grow,\n",
      "  wherefore time's by all this seppiret as your.\n",
      "  though i false that which i be dreason,\n",
      "    and so endreass of thy precious soull\n",
      "  withouthing me, nor thou not best is to me.\n",
      "  or he and alloked more div'ded,\n",
      "  but al the sun a greater ever spire mistre.\n",
      "  how with thee, which carss thou crown thee decease,\n",
      "\n"
     ]
    }
   ],
   "source": [
    "sample = generate_sample(model, max_length = 1600, temperature=0.5)\n",
    "print(sample)"
   ]
  },
  {
   "cell_type": "code",
   "execution_count": null,
   "metadata": {
    "id": "3sD4tosrCuox",
    "outputId": "a7b46020-14a0-46ec-919f-697c53bbd553"
   },
   "outputs": [
    {
     "name": "stdout",
     "output_type": "stream",
     "text": [
      "hellove fortunt husband's leas'd.\n",
      "  the, love meas'd one unkandits that filse,\n",
      "  asing in unused laraden, to my see.\n",
      "\n",
      "  cliii\n",
      "\n",
      "  my leoks of this change! my love, by lack;\n",
      "  since dothen, my love doth lark marning,\n",
      "  and that thou versen of my vering are decay,\n",
      "  both old save to fainting stall keer ever,\n",
      "  which for my swift, yous jowelf of tellorquire.\n",
      "  ho praise of things swift one, possession for;\n",
      "  that shall evermess that fintt noth praise,\n",
      "  mine eye's jechold prailed, which it is not! my sin,\n",
      "  rame thy tongue-to so the summer than semet;\n",
      "  and the use you, to ill my bear\n",
      "  and to be old near wom for knideine temmer.\n",
      "  now same, sometil,--the thou prove, mine after stringl\n",
      "  of what is unboan'd i birj born me,\n",
      "  culling in lovess mined waimely shown\n",
      "  i dot so where thou adiding fren,\n",
      "  by forget thought of ever an your come,\n",
      "  assand, i living no will ol dever,\n",
      "    let me for flies to prove as sweetns ols:\n",
      "  but for things frike, at so galing find fimne.\n",
      "  o everrumbf hrom hath bemovity.\n",
      "  why gold kindanfeess, but sweets refeit,\n",
      "  for their gives my virace, buts rishtly-dris.\n",
      "\n",
      "  lxxxv\n",
      "\n",
      "  thy goul in beanty beauty do swict dies her;\n",
      "  thou make treasure petuse theses bese of riqued\n",
      "  sand i from thy fracuin is sinful year;\n",
      "  then love they that she fortune of you's boot.\n",
      "  yet plack a ourself becauge in to pay,\n",
      "  cook, still withine, but with mosttyrh,\n",
      "    most have eachs, and by viesing to them so short,\n",
      "  and comb and than hath posterain light:\n",
      "  but me to your mark, and ever long ginds,\n",
      "  in my rude abishans mistard will thou did eye,\n",
      "  eat that blessed faud, c\n"
     ]
    }
   ],
   "source": [
    "sample = generate_sample(model, max_length = 1600, temperature=1.0)\n",
    "print(sample)"
   ]
  },
  {
   "cell_type": "code",
   "execution_count": null,
   "metadata": {
    "id": "I-tBMhzHCuox",
    "outputId": "7a096254-554d-4a19-bf94-2cbeb0aa8ec2"
   },
   "outputs": [
    {
     "name": "stdout",
     "output_type": "stream",
     "text": [
      "hello!ing ak oa; what ill wart\n",
      "  as exerrvef tums petirnw puens akn of,\n",
      "    for sweal gles y'ol much if to tusry mio,\n",
      "  own questifus illf, bheesibloy\n",
      " 'd tfrxtint beis faterer's gupt lonilg.\n",
      "\n",
      "  liv'\n",
      "  but in lonnenivine was bad? you like arg;\n",
      "  you you un eyful gimded olde, ull't:\n",
      "    for hour on my sighteg wfaitk:if, lusiv,\n",
      "    at jut, thar i''ul'tt that ir vilw'd, for brow;!\n",
      "  main! vethere, fiilreg tain-thouhly peeb!\n",
      "y hoxk'st whory waw, rann imonce drimm'd righm;\n",
      "  razont tawknint but this, her dold--ly te..\n",
      "\n",
      " -cvxi\n",
      "i\n",
      " s singrowy moan of as exctwalt-ga'd;\n",
      "  but or'nt jogruet-ixteamichs tave of fhywu;\n",
      "-:'? , to,g, oft ghyspoccrated, thas my nevmorqwer;\n",
      "  wlitfurchnls dlfried; glelioh's ugond:\n",
      "    licck make swale, on, you showings o! wellib;\n",
      "  nebfin i fawto syalt upwtimrite; krir'g,\n",
      "   went.\n",
      "  by-dvyriie agol whoke; ad: withe love-pinyschjecl' birts\n",
      "  countiv alone, trifm it o'tol kirdwh?.,\n",
      "   ome! whath wrefte, whebe he hadswe helchy ovexerty, a espot,\n",
      "  o!e nowfulrvoly eirse,\n",
      "  a: ih my 'mily to fireque of eversaguh. wvil slancpy, agacy view,\n",
      "  unfole'filome, rondou alt prarai:.\n",
      "   but spell-st tim\n",
      "  iugh, condrack-long tupbind since must git.e\n",
      "\n",
      "  crexid! in wilf awailifized wikn,\n",
      "  g'ptrysec'cm ovimag''f tubsteich hors,\n",
      "  ang vecb; fory, obtore--moysy day;\n",
      "  of oft, amoing ylxtiig hotchall budd, is sod,\n",
      "  lukhy, mesnce inirided qunerat even-d?iy itthoog,\n",
      "  all dotwede's resty are own scusekd\n",
      "  madg, hundrirg dotiwe'lived i,\n",
      "  maokh offulilims nor partle dost zard;\n",
      "  pletwake m! hermourner,  im know:\n",
      "  \n",
      "i to gray buar be, 'thestor tell poor! ktor,\n",
      "  the howtosta,in s\n"
     ]
    }
   ],
   "source": [
    "sample = generate_sample(model, max_length = 1600, temperature=2.0)\n",
    "print(sample)"
   ]
  },
  {
   "cell_type": "markdown",
   "metadata": {
    "id": "N-lszohJCuox"
   },
   "source": [
    "Вывод по модели LSTM: данная модель сильно превосходит предыдущую. При малых значениях параметра температуры текст имеет вполне выраженную структуру, во многом напоминающаю оригинальный текст (обучающий) по длине строк, знакам препинания, разметке на главы, сгенерированным словам. Кроме того, при бОльших значениях параметра температуры структура текста выглядит лучше, чем у Vanila RNN. "
   ]
  },
  {
   "cell_type": "markdown",
   "metadata": {
    "id": "jXqJWY54FOl3"
   },
   "source": [
    "Далее обучим LSTM на романе в стихах А.С. Пушкина \"Евгений Онегин\""
   ]
  },
  {
   "cell_type": "code",
   "execution_count": null,
   "metadata": {
    "id": "7knqtB17Cx51"
   },
   "outputs": [],
   "source": [
    "import string\n",
    "import numpy as np\n",
    "import matplotlib.pyplot as plt\n",
    "%matplotlib inline\n",
    "import os\n",
    "plt.style.use('dark_background')"
   ]
  },
  {
   "cell_type": "code",
   "execution_count": null,
   "metadata": {
    "colab": {
     "base_uri": "https://localhost:8080/"
    },
    "id": "pibONxTlCyAt",
    "outputId": "19481e5a-4ddd-4a9d-80e0-7491e1ca712d"
   },
   "outputs": [
    {
     "name": "stdout",
     "output_type": "stream",
     "text": [
      "--2020-12-15 15:41:19--  https://raw.githubusercontent.com/attatrol/data_sources/master/onegin.txt\n",
      "Resolving raw.githubusercontent.com (raw.githubusercontent.com)... 151.101.0.133, 151.101.64.133, 151.101.128.133, ...\n",
      "Connecting to raw.githubusercontent.com (raw.githubusercontent.com)|151.101.0.133|:443... connected.\n",
      "HTTP request sent, awaiting response... 200 OK\n",
      "Length: 262521 (256K) [text/plain]\n",
      "Saving to: ‘onegin.txt.1’\n",
      "\n",
      "\r",
      "onegin.txt.1          0%[                    ]       0  --.-KB/s               \r",
      "onegin.txt.1        100%[===================>] 256.37K  --.-KB/s    in 0.03s   \n",
      "\n",
      "2020-12-15 15:41:19 (7.62 MB/s) - ‘onegin.txt.1’ saved [262521/262521]\n",
      "\n"
     ]
    }
   ],
   "source": [
    "!wget https://raw.githubusercontent.com/attatrol/data_sources/master/onegin.txt\n",
    "    \n",
    "with open('onegin.txt', 'r') as iofile:\n",
    "    text = iofile.readlines()\n",
    "    \n",
    "text = [x.replace('\\t\\t', '') for x in text]"
   ]
  },
  {
   "cell_type": "code",
   "execution_count": null,
   "metadata": {
    "colab": {
     "base_uri": "https://localhost:8080/"
    },
    "id": "QgnZfl_BCyDE",
    "outputId": "e69e05e2-33e1-4730-ecb6-94a68107c94c"
   },
   "outputs": [
    {
     "name": "stdout",
     "output_type": "stream",
     "text": [
      "141888\n"
     ]
    }
   ],
   "source": [
    "new_text = []\n",
    "for i in range(len(text)):\n",
    "  new_text += text[i]\n",
    "\n",
    "text = new_text\n",
    "for i in range(len(text)):\n",
    "  if text[i] in string.ascii_uppercase:\n",
    "    text[i] = text[i].lower()\n",
    "\n",
    "print(len(text))"
   ]
  },
  {
   "cell_type": "code",
   "execution_count": null,
   "metadata": {
    "colab": {
     "base_uri": "https://localhost:8080/"
    },
    "id": "ol3oqxLLCyFW",
    "outputId": "cacf9dbd-2c23-4d83-bec0-51a6bfbc451b"
   },
   "outputs": [
    {
     "name": "stdout",
     "output_type": "stream",
     "text": [
      "110\n"
     ]
    }
   ],
   "source": [
    "tokens = sorted(set(text))\n",
    "num_tokens = len(tokens)\n",
    "print(num_tokens)"
   ]
  },
  {
   "cell_type": "code",
   "execution_count": null,
   "metadata": {
    "id": "MMqmHIxACyHo"
   },
   "outputs": [],
   "source": [
    "# dict <index>:<char>\n",
    "# Your great code here\n",
    "token_to_idx = {token: idx for idx, token in enumerate(tokens)}\n",
    "# dict <char>:<index>\n",
    "# Your great code here\n",
    "idx_to_token = {idx: token for idx, token in enumerate(tokens)}"
   ]
  },
  {
   "cell_type": "code",
   "execution_count": null,
   "metadata": {
    "id": "qocfTb18CyJ6"
   },
   "outputs": [],
   "source": [
    "import torch, torch.nn as nn\n",
    "import torch.nn.functional as F\n",
    "import numpy as np"
   ]
  },
  {
   "cell_type": "code",
   "execution_count": null,
   "metadata": {
    "id": "0DL1j7tICyMP"
   },
   "outputs": [],
   "source": [
    "def to_matrix(text, max_len=None, pad=token_to_idx[' '], dtype='int32', batch_first=True):\n",
    "    \"\"\"Casts a list of names into rnn-digestable matrix\"\"\"\n",
    "    \n",
    "    max_len = max_len or max(map(len, text))\n",
    "    text_ix = np.zeros([len(text), max_len], dtype) + pad\n",
    "\n",
    "    for i in range(len(text)):\n",
    "        line_ix = [token_to_idx[c] for c in text[i]]\n",
    "        text_ix[i, :len(line_ix)] = line_ix\n",
    "        \n",
    "    if not batch_first: # convert [batch, time] into [time, batch]\n",
    "        text_ix = np.transpose(text_ix)\n",
    "\n",
    "    return text_ix"
   ]
  },
  {
   "cell_type": "code",
   "execution_count": null,
   "metadata": {
    "id": "F-ZTCuggCyOt"
   },
   "outputs": [],
   "source": [
    "batches = np.split(np.array(text).T, np.linspace(0, len(text), 500, dtype = int))"
   ]
  },
  {
   "cell_type": "code",
   "execution_count": null,
   "metadata": {
    "id": "IiVVSEgbCyQ2"
   },
   "outputs": [],
   "source": [
    "class LSTMLoop(nn.Module):\n",
    "    def __init__(self, num_tokens=num_tokens, emb_size=num_tokens, rnn_num_units=128):\n",
    "        super(self.__class__, self).__init__()\n",
    "        self.num_layers = 2\n",
    "        self.rnn_num_units = rnn_num_units\n",
    "        self.emb = nn.Embedding(num_tokens, emb_size)\n",
    "        self.rnn = nn.LSTM(emb_size, self.rnn_num_units, num_layers=self.num_layers, batch_first=True, dropout=0.2)\n",
    "        self.hid_to_logits = nn.Linear(self.rnn_num_units, num_tokens)\n",
    "        \n",
    "    def forward(self, x, prev_state):\n",
    "        assert isinstance(x.data, torch.LongTensor)\n",
    "        embed = self.emb(x)\n",
    "        output, state = self.rnn(embed, prev_state)\n",
    "        logits = self.hid_to_logits(output)\n",
    "        return logits, state\n",
    "    \n",
    "    def initial_state(self, batch_size):\n",
    "        return (torch.zeros(self.num_layers, batch_size, self.rnn_num_units),\n",
    "                torch.zeros(self.num_layers, batch_size, self.rnn_num_units))"
   ]
  },
  {
   "cell_type": "code",
   "execution_count": null,
   "metadata": {
    "id": "1n5ydhWTCyTK"
   },
   "outputs": [],
   "source": [
    "from IPython.display import clear_output\n",
    "import random \n",
    "\n",
    "model = LSTMLoop()\n",
    "opt = torch.optim.Adam(model.parameters())\n",
    "criterion = nn.NLLLoss()\n",
    "history = []\n",
    "batch_size = 40"
   ]
  },
  {
   "cell_type": "code",
   "execution_count": null,
   "metadata": {
    "colab": {
     "base_uri": "https://localhost:8080/",
     "height": 265
    },
    "id": "ORjZHsK9CyVo",
    "outputId": "c6092282-2e59-4b44-bbdc-9d912a306585"
   },
   "outputs": [
    {
     "data": {
      "image/png": "[encoded data removed]",
      "text/plain": [
       "<Figure size 432x288 with 1 Axes>"
      ]
     },
     "metadata": {
      "tags": []
     },
     "output_type": "display_data"
    }
   ],
   "source": [
    "for i in range(2000):\n",
    "    batch_ix = to_matrix(random.sample(batches, int(batch_size)))\n",
    "    batch_ix = torch.tensor(batch_ix, dtype=torch.int64)\n",
    "    \n",
    "    state_h, state_c = model.initial_state(batch_size)\n",
    "    \n",
    "    y_pred, (state_h, state_c) = model(batch_ix, (state_h, state_c))\n",
    "    \n",
    "    logp_seq = F.log_softmax(y_pred, dim=-1)\n",
    "    \n",
    "    state_h = state_h.detach()\n",
    "    state_c = state_c.detach()\n",
    "    \n",
    "    predictions_logp = logp_seq[:, :-1] \n",
    "    actual_next_tokens = batch_ix[:, 1:] \n",
    "\n",
    "    loss = criterion(\n",
    "        predictions_logp.contiguous().view(-1, num_tokens),\n",
    "        actual_next_tokens.contiguous().view(-1)\n",
    "    )\n",
    "\n",
    "    loss.backward()\n",
    "    opt.step()\n",
    "    opt.zero_grad()\n",
    "    \n",
    "    history.append(loss.data.numpy())\n",
    "    if (i+1)%100==0:\n",
    "        clear_output(True)\n",
    "        plt.plot(history,label='loss')\n",
    "        plt.legend()\n",
    "        plt.show()\n",
    "\n",
    "assert np.mean(history[:10]) > np.mean(history[-10:]), \"RNN didn't converge.\""
   ]
  },
  {
   "cell_type": "code",
   "execution_count": null,
   "metadata": {
    "id": "knMoE9deCyYX"
   },
   "outputs": [],
   "source": [
    "MAX_LENGTH = 500\n",
    "def generate_sample(model, seed_phrase='Привет', max_length=MAX_LENGTH, temperature=1.0):\n",
    "\n",
    "    x_sequence = [token_to_idx[token] for token in seed_phrase]\n",
    "    x_sequence = torch.tensor([[x_sequence]], dtype=torch.int64)\n",
    "    (state_h, state_c) = model.initial_state(batch_size = 1)\n",
    "    \n",
    "    for i in range(len(seed_phrase) - 1):\n",
    "        y_pred, (state_h, state_c) = model(x_sequence[:, :, i], (state_h, state_c))\n",
    "\n",
    "    for _ in range(max_length - len(seed_phrase)):\n",
    "        y_pred, (state_h, state_c) = model(x_sequence[:, :, -1], (state_h, state_c))\n",
    "        last_logit = y_pred[0][-1]\n",
    "        p_next = F.softmax(last_logit / temperature, dim=0).data.numpy()\n",
    "        \n",
    "        next_ix = np.random.choice(len(tokens), p=p_next)\n",
    "           \n",
    "        next_ix = torch.tensor([[[next_ix]]], dtype=torch.int64)\n",
    "        \n",
    "        x_sequence = torch.cat((x_sequence, next_ix), dim=-1)\n",
    " \n",
    "    return ''.join([tokens[ix] for ix in x_sequence.data.numpy()[0][0]])"
   ]
  },
  {
   "cell_type": "code",
   "execution_count": null,
   "metadata": {
    "colab": {
     "base_uri": "https://localhost:8080/"
    },
    "id": "P50yY7PkDIJn",
    "outputId": "f088b123-000f-4aba-836a-6db7c72ee59a"
   },
   "outputs": [
    {
     "name": "stdout",
     "output_type": "stream",
     "text": [
      "Приветельным сердце в нем страсти с ней.\n",
      "\n",
      "\n",
      "\n",
      "xxvii\n",
      "\n",
      "Не слово страшно своей своей\n",
      "И подругом он своей сердой,\n",
      "И сердце под соседа страсть,\n",
      "В семил подушной породной,\n",
      "И страсте в ней под нем она\n",
      "И в страсти посказать она.\n",
      "\n",
      "\n",
      "\n",
      "xxxvii\n",
      "\n",
      "Но в ней не странилась в сердце стренье\n",
      "Приводит сердце в ней сердца\n",
      "И в соседит сердце в ней свет.\n",
      "\n",
      "\n",
      "\n",
      "xxvii\n",
      "\n",
      "Но вот подом ображенье свой\n",
      "И на своей под постранит,\n",
      "И слова с ним под нем сердце,\n",
      "И в страх страшно страсти полной\n",
      "В ней под нет мелькали с ней.\n",
      "\n",
      "\n",
      "\n",
      "xxvii\n",
      "\n",
      "Но встоль в сердце в сердце в ней друг,\n",
      "И всё в сердце молчительный свет\n",
      "И страшно страсти постанит,\n",
      "И сладовая с ней дева,\n",
      "И слез под нем она странный,\n",
      "И в сердце полный полетел,\n",
      "И славо страшно страшно страни,\n",
      "И всё вечер седит сердце.\n",
      "\n",
      "\n",
      "\n",
      "xxxi\n",
      "\n",
      "Но вот в ней в страх под нем и своей\n",
      "И сердце не приметн\n"
     ]
    }
   ],
   "source": [
    "sample = generate_sample(model, max_length = 800, temperature=0.1)\n",
    "print(sample)"
   ]
  },
  {
   "cell_type": "code",
   "execution_count": null,
   "metadata": {
    "colab": {
     "base_uri": "https://localhost:8080/"
    },
    "id": "x9L_44hADKJV",
    "outputId": "15a293e8-3aeb-454f-af25-39e19516a2e9"
   },
   "outputs": [
    {
     "name": "stdout",
     "output_type": "stream",
     "text": [
      "Приветель сторой,\n",
      "Но он сердце он сам отматой\n",
      "Не старины был в верене\n",
      "В пором он сон постерена,\n",
      "С друг полуматился своей,\n",
      "Полча мне холости скорей\n",
      "Его не не как небесновым\n",
      "Несеньмо поглушала на то\n",
      "Он прозворить он обвичен,\n",
      "В светил сам оставить умной\n",
      "И на страстей следа страдать\n",
      "Он с невосливою слебенной\n",
      "И вселье он бестрательной,\n",
      "Но сказал своей сердцем и ней,\n",
      "Не сердце всё повердость и млады\n",
      "Со небов угородитый стра,\n",
      "Всегда в поэта не пород,\n",
      "Привыт оседский нет нет.\n",
      "\n",
      "\n",
      "\n",
      "xxxii\n",
      "\n",
      "И он дам он в скорк заветной\n",
      "Под сердечно привыльной,\n",
      "И с ней соседким весиных.\n",
      "Но старый с себя был вад осня\n",
      "В доседка без ним уморов,\n",
      "И не породных конец стренный,\n",
      "Под устала привольно нам\n",
      "Татьяна порото с ней —\n",
      "Вдруг я поля оставил она,\n",
      "Под перед ним было и в сот.\n",
      "Его на ничей на разлосты\n",
      "Задерчая, проченья предо\n"
     ]
    }
   ],
   "source": [
    "sample = generate_sample(model, max_length = 800, temperature=0.5)\n",
    "print(sample)"
   ]
  },
  {
   "cell_type": "code",
   "execution_count": null,
   "metadata": {
    "colab": {
     "base_uri": "https://localhost:8080/"
    },
    "id": "q0DV9DK1DKQs",
    "outputId": "559fe810-e229-4201-89d5-17b3db71e806"
   },
   "outputs": [
    {
     "name": "stdout",
     "output_type": "stream",
     "text": [
      "Приветать гокал;\n",
      "Чтакае модный я. Атитело;\n",
      "Кряшней не содочки лкадей;\n",
      "Иновь фодия дука их,\n",
      "Стать, девет ее глурки он.\n",
      "\n",
      "\n",
      "\n",
      "xxxvi\n",
      "\n",
      "Поху иль и ноше, вдих буря:\n",
      "Зусей! трезлеца дороге нень\n",
      "И моркоились были рестом\n",
      "Саду, душа обрак жевизни\n",
      "Иееской Ленской заветь!.\n",
      "«Что, традочным балые душа —\n",
      "«Как зовет елений. Поток.;\n",
      "Ком деном спушла приятельным —\n",
      "Наеста лИ судит б это певил?…» —\n",
      "«ЯeДицом поллений подний,\n",
      "Цугда важный рыкнакая сень,\n",
      "Домой откоть любви больких одвый\n",
      "С соясклосошной мерклого,\n",
      "За смерит показновлаковень»\n",
      "\n",
      "\n",
      "\n",
      "iii\n",
      "\n",
      "Он льгов не с неги непривожаль,\n",
      "И мог; рюбви презда муг (бя,\n",
      "Гоствая розовый вецец.\n",
      "\n",
      "\n",
      "\n",
      "xxxvii\n",
      "\n",
      "Себи мильной Евгеной солку,\n",
      "Спатитесь одна не горденьем\n",
      "Она Татьяну присожили\n",
      "Гнуть, ну, их зоме уму мальной\n",
      "Его пошление гостей:\n",
      "Его нет ее в топчество, нем.\n",
      "Как меж стуках жев\n"
     ]
    }
   ],
   "source": [
    "sample = generate_sample(model, max_length = 800, temperature=1.0)\n",
    "print(sample)"
   ]
  },
  {
   "cell_type": "code",
   "execution_count": null,
   "metadata": {
    "colab": {
     "base_uri": "https://localhost:8080/"
    },
    "id": "EtOQechxLL3Z",
    "outputId": "7b964548-eea7-46e5-9f68-27da5c4d3e1b"
   },
   "outputs": [
    {
     "name": "stdout",
     "output_type": "stream",
     "text": [
      "Приветил Прилид»\n",
      "Рас пыйныоб, Бок лнощею»;.…?;,…\n",
      "Чкоиeчю уды  ризмяя! —\n",
      "оне, надСустлякие, сдадишь\n",
      "Но вмох; думачБкиmми, б,бал вапа Нас\n",
      "Сгуйоских, пряхерыбо ей];\n",
      "Ведеt БевежнКоВсмулпаыПым,\n",
      "Осисучто Омегач;; cДь?» –\n",
      "В себяи была-ждячубке?\n",
      "– Вом! Ле-скЭрюбробдий бве!\n",
      "Наослутольный лупсклядер,\n",
      "pИйстел Вырлои… ХолБажаи лссой\n",
      "емед примпиклвея сдьсчгициб\n",
      "Герях дышноюс пушиненьпя,\n",
      "Бысна в лочныемая гfдых;\n",
      "Во Ут!€м, козчилукбо; ьят), двый!Жьf скучайтил;\n",
      "Улын!€ нобА?ды!,я ювир:»)\n",
      "Милянношо.:\n",
      "И-Хвыглыем?€ – чет-вsдиавне исьтливи я! —\n",
      "Тa«ырмю суляньенаем,\n",
      "НаФнкостевалею пяду.\n",
      "Катит Хлезря, одиннье, Рисуч…Ды\n",
      "УoчарЕку, наяют,\n",
      ",Ф залеыго-рук-я здный!, Н?т!» уж!,\n",
      "Ну вощен нежн алсксях?\n",
      "’lО? дюний Печло,\n",
      "Ба?? тду:чнее изпотнок.\n",
      "…hм-то-На cotkь? грерпишуннав:\n",
      " поё, здра!). Но: yпетшхогоом зрык,\n",
      "Сбистоф; (а\n"
     ]
    }
   ],
   "source": [
    "sample = generate_sample(model, max_length = 800, temperature=2.0)\n",
    "print(sample)"
   ]
  },
  {
   "cell_type": "markdown",
   "metadata": {
    "id": "av569yPn9B0j"
   },
   "source": [
    "### Saving and loading models"
   ]
  },
  {
   "cell_type": "markdown",
   "metadata": {
    "id": "61mlTSsx9B0j"
   },
   "source": [
    "Save the model to the disk, then load it and generate text. Examples are available [here](https://pytorch.org/tutorials/beginner/saving_loading_models.html])."
   ]
  },
  {
   "cell_type": "code",
   "execution_count": null,
   "metadata": {
    "collapsed": true,
    "id": "5NVr7rdB9B0k"
   },
   "outputs": [],
   "source": [
    "# Saving and loading code here"
   ]
  },
  {
   "cell_type": "markdown",
   "metadata": {
    "id": "p9d53ash9B0k"
   },
   "source": [
    "### References\n",
    "1. <a href='http://karpathy.github.io/2015/05/21/rnn-effectiveness/'> Andrew Karpathy blog post about RNN. </a> \n",
    "There are several examples of genration: Shakespeare texts, Latex formulas, Linux Sourse Code and children names.\n",
    "2. <a href='https://github.com/karpathy/char-rnn'> Repo with char-rnn code </a>\n",
    "3. Cool repo with PyTorch examples: [link](https://github.com/spro/practical-pytorch`)"
   ]
  },
  {
   "cell_type": "code",
   "execution_count": null,
   "metadata": {
    "id": "T2smPe18Cuoy"
   },
   "outputs": [],
   "source": []
  }
 ],
 "metadata": {
  "anaconda-cloud": {},
  "colab": {
   "collapsed_sections": [],
   "name": "Lab2_DL_part3_poetry (1).ipynb",
   "provenance": []
  },
  "kernelspec": {
   "display_name": "Python 3",
   "language": "python",
   "name": "python3"
  },
  "language_info": {
   "codemirror_mode": {
    "name": "ipython",
    "version": 3
   },
   "file_extension": ".py",
   "mimetype": "text/x-python",
   "name": "python",
   "nbconvert_exporter": "python",
   "pygments_lexer": "ipython3",
   "version": "3.7.3"
  }
 },
 "nbformat": 4,
 "nbformat_minor": 1
}
